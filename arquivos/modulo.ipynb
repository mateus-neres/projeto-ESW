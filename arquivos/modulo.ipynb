{
 "cells": [
  {
   "cell_type": "markdown",
   "metadata": {},
   "source": [
    "### Imports"
   ]
  },
  {
   "cell_type": "code",
   "execution_count": 1,
   "metadata": {},
   "outputs": [],
   "source": [
    "from biblioteca import tabela_para_excel, pdf_para_tabela\n",
    "from biblioteca import ajustar_valor\n",
    "import numpy as np\n",
    "import pandas as pd\n",
    "from loguru import logger"
   ]
  },
  {
   "cell_type": "markdown",
   "metadata": {},
   "source": [
    "### Exibindo colunas e linhas sem abreviações\n",
    "\n",
    "### para exibir as colunas e linhas de um DataFrame sem abreviações, você pode usar o método pd.set_option do Pandas para configurar as opções de exibição."
   ]
  },
  {
   "cell_type": "code",
   "execution_count": 2,
   "metadata": {},
   "outputs": [],
   "source": [
    "pd.set_option(\"display.max_columns\", None)\n",
    "pd.set_option(\"display.max_rows\", None)"
   ]
  },
  {
   "cell_type": "markdown",
   "metadata": {},
   "source": [
    "### Geração de logs"
   ]
  },
  {
   "cell_type": "code",
   "execution_count": 3,
   "metadata": {},
   "outputs": [
    {
     "data": {
      "text/plain": [
       "1"
      ]
     },
     "execution_count": 3,
     "metadata": {},
     "output_type": "execute_result"
    }
   ],
   "source": [
    "logger.add('logfile.txt', format=\"{time} {level} {file} {message}\", level=\"INFO\")"
   ]
  },
  {
   "cell_type": "markdown",
   "metadata": {},
   "source": [
    "### Extraindo dados do pdf e convertendo para excel"
   ]
  },
  {
   "cell_type": "code",
   "execution_count": 4,
   "metadata": {},
   "outputs": [
    {
     "name": "stderr",
     "output_type": "stream",
     "text": [
      "\u001b[32m2024-08-14 01:12:35.393\u001b[0m | \u001b[1mINFO    \u001b[0m | \u001b[36mbiblioteca\u001b[0m:\u001b[36mpdf_para_tabela\u001b[0m:\u001b[36m10\u001b[0m - \u001b[1mIniciando a conversão do PDF para tabelas.\u001b[0m\n",
      "\u001b[32m2024-08-14 01:12:38.803\u001b[0m | \u001b[1mINFO    \u001b[0m | \u001b[36mbiblioteca\u001b[0m:\u001b[36mpdf_para_tabela\u001b[0m:\u001b[36m20\u001b[0m - \u001b[1mConversão do PDF para tabelas concluída com sucesso.\u001b[0m\n",
      "\u001b[32m2024-08-14 01:12:38.804\u001b[0m | \u001b[1mINFO    \u001b[0m | \u001b[36mbiblioteca\u001b[0m:\u001b[36mtabela_para_excel\u001b[0m:\u001b[36m30\u001b[0m - \u001b[1mIniciando a conversão das tabelas para arquivo Excel.\u001b[0m\n",
      "\u001b[32m2024-08-14 01:12:38.846\u001b[0m | \u001b[1mINFO    \u001b[0m | \u001b[36mbiblioteca\u001b[0m:\u001b[36mtabela_para_excel\u001b[0m:\u001b[36m50\u001b[0m - \u001b[1mArquivo Excel salvo com sucesso em: C:\\Users\\mateu\\Área de Trabalho\\AMBIENTE DE TRABALHO\\ESTUDOS\\UFPB\\P4\\ENGENHARIA DE SOFTWARE\\projeto-ESW\\data\\extrato.xlsx\u001b[0m\n"
     ]
    }
   ],
   "source": [
    "try:\n",
    "    tabela = pdf_para_tabela(r'C:\\Users\\mateu\\Área de Trabalho\\AMBIENTE DE TRABALHO\\ESTUDOS\\UFPB\\P4\\ENGENHARIA DE SOFTWARE\\projeto-ESW\\data', 'extrato.pdf')\n",
    "    if tabela is not None:\n",
    "        tabela_para_excel(tabela, r'C:\\Users\\mateu\\Área de Trabalho\\AMBIENTE DE TRABALHO\\ESTUDOS\\UFPB\\P4\\ENGENHARIA DE SOFTWARE\\projeto-ESW\\data', 'extrato.xlsx')\n",
    "except Exception as e:\n",
    "    logger.error(f'Erro ao executar o código principal: {e}')"
   ]
  },
  {
   "cell_type": "markdown",
   "metadata": {},
   "source": [
    "### Carregar DataFrame"
   ]
  },
  {
   "cell_type": "code",
   "execution_count": 5,
   "metadata": {},
   "outputs": [],
   "source": [
    "\n",
    "df = pd.read_excel(r'C:\\Users\\mateu\\Área de Trabalho\\AMBIENTE DE TRABALHO\\ESTUDOS\\UFPB\\P4\\ENGENHARIA DE SOFTWARE\\projeto-ESW\\data\\extrato.xlsx')\n"
   ]
  },
  {
   "cell_type": "markdown",
   "metadata": {},
   "source": [
    "### Renomear colunas"
   ]
  },
  {
   "cell_type": "code",
   "execution_count": 6,
   "metadata": {},
   "outputs": [],
   "source": [
    "df = df.rename(columns={\n",
    "    'Agência 3793-1': 'Dt. movimento',\n",
    "    'Unnamed: 1': 'Dt. balancete',\n",
    "    'Unnamed: 2': 'Histórico',\n",
    "    'Unnamed: 3': 'Documento',\n",
    "    'Unnamed: 4': 'Valor R$',\n",
    "    'Unnamed: 5': 'Saldo'\n",
    "})"
   ]
  },
  {
   "cell_type": "markdown",
   "metadata": {},
   "source": [
    "### Remover colunas desnecessárias\n",
    "\n",
    "#### A remoção de linhas gerou um erro, precisa ser corrigido."
   ]
  },
  {
   "cell_type": "code",
   "execution_count": 7,
   "metadata": {},
   "outputs": [],
   "source": [
    "df_cleaned = df.drop(columns=['Saldo', 'Dt. balancete', 'Documento'])"
   ]
  },
  {
   "cell_type": "markdown",
   "metadata": {},
   "source": [
    "### Substituir strings vazias e espaços por NaN"
   ]
  },
  {
   "cell_type": "code",
   "execution_count": 8,
   "metadata": {},
   "outputs": [],
   "source": [
    "df_cleaned.replace(r'^\\s*$', np.nan, regex=True, inplace=True)"
   ]
  },
  {
   "cell_type": "markdown",
   "metadata": {},
   "source": [
    "### Remover linhas com qualquer valor NaN"
   ]
  },
  {
   "cell_type": "code",
   "execution_count": 9,
   "metadata": {},
   "outputs": [],
   "source": [
    "df_cleaned = df_cleaned.dropna(how='any')"
   ]
  },
  {
   "cell_type": "markdown",
   "metadata": {},
   "source": [
    "### Aplicar a função ao DataFrame e atualizar a coluna 'Valor R$'"
   ]
  },
  {
   "cell_type": "code",
   "execution_count": 10,
   "metadata": {},
   "outputs": [],
   "source": [
    "df_cleaned['Valor R$'] = df_cleaned['Valor R$'].apply(ajustar_valor)"
   ]
  },
  {
   "cell_type": "markdown",
   "metadata": {},
   "source": [
    "### Salvar o DataFrame limpo em um novo arquivo Excel"
   ]
  },
  {
   "cell_type": "code",
   "execution_count": 11,
   "metadata": {},
   "outputs": [],
   "source": [
    "caminho = r'C:\\Users\\mateu\\Área de Trabalho\\AMBIENTE DE TRABALHO\\ESTUDOS\\UFPB\\P4\\ENGENHARIA DE SOFTWARE\\projeto-ESW\\data\\teste.xlsx'\n",
    "df_cleaned.to_excel(caminho, index=False)"
   ]
  }
 ],
 "metadata": {
  "kernelspec": {
   "display_name": "Python 3 (ipykernel)",
   "language": "python",
   "name": "python3"
  },
  "language_info": {
   "codemirror_mode": {
    "name": "ipython",
    "version": 3
   },
   "file_extension": ".py",
   "mimetype": "text/x-python",
   "name": "python",
   "nbconvert_exporter": "python",
   "pygments_lexer": "ipython3",
   "version": "3.12.3"
  }
 },
 "nbformat": 4,
 "nbformat_minor": 4
}
