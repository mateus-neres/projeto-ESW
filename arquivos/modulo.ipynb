{
 "cells": [
  {
   "cell_type": "code",
   "execution_count": 1,
   "metadata": {},
   "outputs": [],
   "source": [
    "from biblioteca import tabela_para_excel, pdf_para_tabela\n",
    "import pandas as pd\n",
    "from loguru import logger"
   ]
  },
  {
   "cell_type": "code",
   "execution_count": 2,
   "metadata": {},
   "outputs": [
    {
     "data": {
      "text/plain": [
       "1"
      ]
     },
     "execution_count": 2,
     "metadata": {},
     "output_type": "execute_result"
    }
   ],
   "source": [
    "logger.add('logfile.txt', format=\"{time} {level} {message}\", level=\"INFO\")"
   ]
  },
  {
   "cell_type": "code",
   "execution_count": 3,
   "metadata": {},
   "outputs": [
    {
     "name": "stderr",
     "output_type": "stream",
     "text": [
      "\u001b[32m2024-07-28 18:32:27.491\u001b[0m | \u001b[1mINFO    \u001b[0m | \u001b[36mbiblioteca\u001b[0m:\u001b[36mpdf_para_tabela\u001b[0m:\u001b[36m9\u001b[0m - \u001b[1mConvertendo PDF para tabela. Função pdf_para_tabela\u001b[0m\n",
      "\u001b[32m2024-07-28 18:32:31.139\u001b[0m | \u001b[1mINFO    \u001b[0m | \u001b[36mbiblioteca\u001b[0m:\u001b[36mpdf_para_tabela\u001b[0m:\u001b[36m21\u001b[0m - \u001b[1mConversão do PDF para tabela concluída com sucesso\u001b[0m\n",
      "\u001b[32m2024-07-28 18:32:31.140\u001b[0m | \u001b[1mINFO    \u001b[0m | \u001b[36mbiblioteca\u001b[0m:\u001b[36mtabela_para_excel\u001b[0m:\u001b[36m32\u001b[0m - \u001b[1mConvertendo tabela para arquivo xlsx. Função tabela_para_excel\u001b[0m\n",
      "\u001b[32m2024-07-28 18:32:31.141\u001b[0m | \u001b[33m\u001b[1mWARNING \u001b[0m | \u001b[36mbiblioteca\u001b[0m:\u001b[36mtabela_para_excel\u001b[0m:\u001b[36m35\u001b[0m - \u001b[33m\u001b[1mNenhuma tabela foi fornecida\u001b[0m\n",
      "\u001b[32m2024-07-28 18:32:31.230\u001b[0m | \u001b[1mINFO    \u001b[0m | \u001b[36mbiblioteca\u001b[0m:\u001b[36mtabela_para_excel\u001b[0m:\u001b[36m54\u001b[0m - \u001b[1mConversão de tabela para xlsx realizada com sucesso\u001b[0m\n",
      "\u001b[32m2024-07-28 18:32:31.232\u001b[0m | \u001b[1mINFO    \u001b[0m | \u001b[36mbiblioteca\u001b[0m:\u001b[36mtabela_para_excel\u001b[0m:\u001b[36m55\u001b[0m - \u001b[1mArquivo xlsx salvo com sucesso em : C:\\Users\\mateu\\Área de Trabalho\\AMBIENTE DE TRABALHO\\ESTUDOS\\UFPB\\P4\\ENGENHARIA DE SOFTWARE\\projeto-ESW\\data\\extrato.xlsx\u001b[0m\n"
     ]
    }
   ],
   "source": [
    "try:\n",
    "    tabela = pdf_para_tabela(r'C:\\Users\\mateu\\Área de Trabalho\\AMBIENTE DE TRABALHO\\ESTUDOS\\UFPB\\P4\\ENGENHARIA DE SOFTWARE\\projeto-ESW\\data', 'extrato.pdf')\n",
    "    if tabela is not None:\n",
    "        tabela_para_excel(tabela, r'C:\\Users\\mateu\\Área de Trabalho\\AMBIENTE DE TRABALHO\\ESTUDOS\\UFPB\\P4\\ENGENHARIA DE SOFTWARE\\projeto-ESW\\data', 'extrato.xlsx')\n",
    "except Exception as e:\n",
    "    logger.error(f'Erro ao executar o código principal: {e}')"
   ]
  },
  {
   "cell_type": "code",
   "execution_count": 4,
   "metadata": {},
   "outputs": [
    {
     "data": {
      "text/html": [
       "<div>\n",
       "<style scoped>\n",
       "    .dataframe tbody tr th:only-of-type {\n",
       "        vertical-align: middle;\n",
       "    }\n",
       "\n",
       "    .dataframe tbody tr th {\n",
       "        vertical-align: top;\n",
       "    }\n",
       "\n",
       "    .dataframe thead th {\n",
       "        text-align: right;\n",
       "    }\n",
       "</style>\n",
       "<table border=\"1\" class=\"dataframe\">\n",
       "  <thead>\n",
       "    <tr style=\"text-align: right;\">\n",
       "      <th></th>\n",
       "      <th>Agência 3793-1</th>\n",
       "      <th>Unnamed: 1</th>\n",
       "      <th>Unnamed: 2</th>\n",
       "      <th>Unnamed: 3</th>\n",
       "      <th>Unnamed: 4</th>\n",
       "      <th>Unnamed: 5</th>\n",
       "    </tr>\n",
       "  </thead>\n",
       "  <tbody>\n",
       "    <tr>\n",
       "      <th>0</th>\n",
       "      <td>Conta corrente 12034-0</td>\n",
       "      <td>NaN</td>\n",
       "      <td>SEED PARANA - FEB</td>\n",
       "      <td>NaN</td>\n",
       "      <td>NaN</td>\n",
       "      <td>NaN</td>\n",
       "    </tr>\n",
       "    <tr>\n",
       "      <th>1</th>\n",
       "      <td>Período do extrato 11/2018</td>\n",
       "      <td>NaN</td>\n",
       "      <td>NaN</td>\n",
       "      <td>NaN</td>\n",
       "      <td>NaN</td>\n",
       "      <td>NaN</td>\n",
       "    </tr>\n",
       "    <tr>\n",
       "      <th>2</th>\n",
       "      <td>Lançamentos</td>\n",
       "      <td>NaN</td>\n",
       "      <td>NaN</td>\n",
       "      <td>NaN</td>\n",
       "      <td>NaN</td>\n",
       "      <td>NaN</td>\n",
       "    </tr>\n",
       "    <tr>\n",
       "      <th>3</th>\n",
       "      <td>Dt. movimento Dt. balancete</td>\n",
       "      <td>NaN</td>\n",
       "      <td>Histórico</td>\n",
       "      <td>Documento</td>\n",
       "      <td>Valor R$</td>\n",
       "      <td>Saldo</td>\n",
       "    </tr>\n",
       "    <tr>\n",
       "      <th>4</th>\n",
       "      <td>31/10/2018</td>\n",
       "      <td>NaN</td>\n",
       "      <td>Saldo Anterior</td>\n",
       "      <td>NaN</td>\n",
       "      <td>NaN</td>\n",
       "      <td>0,00 C</td>\n",
       "    </tr>\n",
       "    <tr>\n",
       "      <th>...</th>\n",
       "      <td>...</td>\n",
       "      <td>...</td>\n",
       "      <td>...</td>\n",
       "      <td>...</td>\n",
       "      <td>...</td>\n",
       "      <td>...</td>\n",
       "    </tr>\n",
       "    <tr>\n",
       "      <th>283</th>\n",
       "      <td>28/11/2018</td>\n",
       "      <td>NaN</td>\n",
       "      <td>Repasse</td>\n",
       "      <td>51.203.001</td>\n",
       "      <td>529.967,67 C</td>\n",
       "      <td>NaN</td>\n",
       "    </tr>\n",
       "    <tr>\n",
       "      <th>284</th>\n",
       "      <td>28/11/2018</td>\n",
       "      <td>NaN</td>\n",
       "      <td>Apl.BB Fundos Exclusivos</td>\n",
       "      <td>1.338</td>\n",
       "      <td>529.967,67 D</td>\n",
       "      <td>0,00 C</td>\n",
       "    </tr>\n",
       "    <tr>\n",
       "      <th>285</th>\n",
       "      <td>29/11/2018</td>\n",
       "      <td>NaN</td>\n",
       "      <td>Repasse</td>\n",
       "      <td>51.203.001</td>\n",
       "      <td>372.059,70 C</td>\n",
       "      <td>NaN</td>\n",
       "    </tr>\n",
       "    <tr>\n",
       "      <th>286</th>\n",
       "      <td>29/11/2018</td>\n",
       "      <td>NaN</td>\n",
       "      <td>Apl.BB Fundos Exclusivos</td>\n",
       "      <td>1.338</td>\n",
       "      <td>372.059,70 D</td>\n",
       "      <td>0,00 C</td>\n",
       "    </tr>\n",
       "    <tr>\n",
       "      <th>287</th>\n",
       "      <td>30/11/2018</td>\n",
       "      <td>NaN</td>\n",
       "      <td>Repasse</td>\n",
       "      <td>51.203.001</td>\n",
       "      <td>611.367,13 C</td>\n",
       "      <td>NaN</td>\n",
       "    </tr>\n",
       "  </tbody>\n",
       "</table>\n",
       "<p>288 rows × 6 columns</p>\n",
       "</div>"
      ],
      "text/plain": [
       "                  Agência 3793-1 Unnamed: 1                Unnamed: 2  \\\n",
       "0         Conta corrente 12034-0        NaN         SEED PARANA - FEB   \n",
       "1     Período do extrato 11/2018        NaN                       NaN   \n",
       "2                    Lançamentos        NaN                       NaN   \n",
       "3    Dt. movimento Dt. balancete        NaN                 Histórico   \n",
       "4                     31/10/2018        NaN            Saldo Anterior   \n",
       "..                           ...        ...                       ...   \n",
       "283                   28/11/2018        NaN                   Repasse   \n",
       "284                   28/11/2018        NaN  Apl.BB Fundos Exclusivos   \n",
       "285                   29/11/2018        NaN                   Repasse   \n",
       "286                   29/11/2018        NaN  Apl.BB Fundos Exclusivos   \n",
       "287                   30/11/2018        NaN                   Repasse   \n",
       "\n",
       "     Unnamed: 3    Unnamed: 4 Unnamed: 5  \n",
       "0           NaN           NaN        NaN  \n",
       "1           NaN           NaN        NaN  \n",
       "2           NaN           NaN        NaN  \n",
       "3     Documento      Valor R$      Saldo  \n",
       "4           NaN           NaN     0,00 C  \n",
       "..          ...           ...        ...  \n",
       "283  51.203.001  529.967,67 C        NaN  \n",
       "284       1.338  529.967,67 D     0,00 C  \n",
       "285  51.203.001  372.059,70 C        NaN  \n",
       "286       1.338  372.059,70 D     0,00 C  \n",
       "287  51.203.001  611.367,13 C        NaN  \n",
       "\n",
       "[288 rows x 6 columns]"
      ]
     },
     "metadata": {},
     "output_type": "display_data"
    }
   ],
   "source": [
    "df = pd.read_excel(r'C:\\Users\\mateu\\Área de Trabalho\\AMBIENTE DE TRABALHO\\ESTUDOS\\UFPB\\P4\\ENGENHARIA DE SOFTWARE\\projeto-ESW\\data\\extrato.xlsx')\n",
    "display(df)"
   ]
  }
 ],
 "metadata": {
  "kernelspec": {
   "display_name": "Python 3",
   "language": "python",
   "name": "python3"
  },
  "language_info": {
   "codemirror_mode": {
    "name": "ipython",
    "version": 3
   },
   "file_extension": ".py",
   "mimetype": "text/x-python",
   "name": "python",
   "nbconvert_exporter": "python",
   "pygments_lexer": "ipython3",
   "version": "3.12.3"
  }
 },
 "nbformat": 4,
 "nbformat_minor": 2
}
