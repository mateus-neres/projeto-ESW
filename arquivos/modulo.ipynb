{
 "cells": [
  {
   "cell_type": "code",
   "execution_count": null,
   "metadata": {},
   "outputs": [],
   "source": [
    "from biblioteca import tabela_para_excel, pdf_para_tabela\n",
    "import pandas as pd\n",
    "from loguru import logger"
   ]
  },
  {
   "cell_type": "code",
   "execution_count": null,
   "metadata": {},
   "outputs": [],
   "source": [
    "logger.add('logfile.txt', format=\"{time} {level} {message}\", level=\"INFO\")"
   ]
  },
  {
   "cell_type": "code",
   "execution_count": null,
   "metadata": {},
   "outputs": [],
   "source": [
    "try:\n",
    "    tabela = pdf_para_tabela(r'C:\\Users\\mateu\\Área de Trabalho\\AMBIENTE DE TRABALHO\\ESTUDOS\\UFPB\\P4\\ENGENHARIA DE SOFTWARE\\projeto-ESW\\data', 'extrato.pdf')\n",
    "    if tabela is not None:\n",
    "        tabela_para_excel(tabela, r'C:\\Users\\mateu\\Área de Trabalho\\AMBIENTE DE TRABALHO\\ESTUDOS\\UFPB\\P4\\ENGENHARIA DE SOFTWARE\\projeto-ESW\\data', 'extrato.xlsx')\n",
    "except Exception as e:\n",
    "    logger.error(f'Erro ao executar o código principal: {e}')"
   ]
  },
  {
   "cell_type": "code",
   "execution_count": null,
   "metadata": {},
   "outputs": [],
   "source": [
    "df = pd.read_excel(r'C:\\Users\\mateu\\Área de Trabalho\\AMBIENTE DE TRABALHO\\ESTUDOS\\UFPB\\P4\\ENGENHARIA DE SOFTWARE\\projeto-ESW\\data\\extrato.xlsx')\n",
    "display(df)"
   ]
  }
 ],
 "metadata": {
  "kernelspec": {
   "display_name": "Python 3",
   "language": "python",
   "name": "python3"
  },
  "language_info": {
   "codemirror_mode": {
    "name": "ipython",
    "version": 3
   },
   "file_extension": ".py",
   "mimetype": "text/x-python",
   "name": "python",
   "nbconvert_exporter": "python",
   "pygments_lexer": "ipython3",
   "version": "3.12.3"
  }
 },
 "nbformat": 4,
 "nbformat_minor": 2
}
