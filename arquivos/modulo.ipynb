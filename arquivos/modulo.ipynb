{
 "cells": [
  {
   "cell_type": "markdown",
   "metadata": {},
   "source": [
    "# Imports"
   ]
  },
  {
   "cell_type": "code",
   "execution_count": 1,
   "metadata": {},
   "outputs": [],
   "source": [
    "from biblioteca import tabela_para_excel, pdf_para_tabela\n",
    "import numpy as np\n",
    "import pandas as pd\n",
    "from loguru import logger"
   ]
  },
  {
   "cell_type": "markdown",
   "metadata": {},
   "source": [
    "# Exibindo colunas e linhas sem abreviações\n",
    "\n",
    "### para exibir as colunas e linhas de um DataFrame sem abreviações, você pode usar o método pd.set_option do Pandas para configurar as opções de exibição."
   ]
  },
  {
   "cell_type": "code",
   "execution_count": 2,
   "metadata": {},
   "outputs": [],
   "source": [
    "\n",
    "pd.set_option(\"display.max_columns\", None)\n",
    "pd.set_option(\"display.max_rows\", None)"
   ]
  },
  {
   "cell_type": "markdown",
   "metadata": {},
   "source": [
    "# Geração de logs"
   ]
  },
  {
   "cell_type": "code",
   "execution_count": 3,
   "metadata": {},
   "outputs": [
    {
     "data": {
      "text/plain": [
       "1"
      ]
     },
     "execution_count": 3,
     "metadata": {},
     "output_type": "execute_result"
    }
   ],
   "source": [
    "logger.add('logfile.txt', format=\"{time} {level} {file} {message}\", level=\"INFO\")"
   ]
  },
  {
   "cell_type": "markdown",
   "metadata": {},
   "source": [
    "# Extraindo dados do pdf e convertendo para excel"
   ]
  },
  {
   "cell_type": "code",
   "execution_count": 4,
   "metadata": {},
   "outputs": [
    {
     "name": "stderr",
     "output_type": "stream",
     "text": [
      "\u001b[32m2024-08-13 22:56:22.216\u001b[0m | \u001b[1mINFO    \u001b[0m | \u001b[36mbiblioteca\u001b[0m:\u001b[36mpdf_para_tabela\u001b[0m:\u001b[36m9\u001b[0m - \u001b[1mIniciando a conversão do PDF para tabela.\u001b[0m\n",
      "\u001b[32m2024-08-13 22:56:26.352\u001b[0m | \u001b[1mINFO    \u001b[0m | \u001b[36mbiblioteca\u001b[0m:\u001b[36mpdf_para_tabela\u001b[0m:\u001b[36m19\u001b[0m - \u001b[1mConversão do PDF para tabela concluída com sucesso.\u001b[0m\n",
      "\u001b[32m2024-08-13 22:56:26.354\u001b[0m | \u001b[1mINFO    \u001b[0m | \u001b[36mbiblioteca\u001b[0m:\u001b[36mtabela_para_excel\u001b[0m:\u001b[36m29\u001b[0m - \u001b[1mIniciando a conversão da tabela para arquivo Excel.\u001b[0m\n",
      "\u001b[32m2024-08-13 22:56:26.413\u001b[0m | \u001b[1mINFO    \u001b[0m | \u001b[36mbiblioteca\u001b[0m:\u001b[36mtabela_para_excel\u001b[0m:\u001b[36m50\u001b[0m - \u001b[1mArquivo Excel salvo com sucesso em: C:\\Users\\mateu\\Área de Trabalho\\AMBIENTE DE TRABALHO\\ESTUDOS\\UFPB\\P4\\ENGENHARIA DE SOFTWARE\\projeto-ESW\\data\\extrato.xlsx\u001b[0m\n"
     ]
    }
   ],
   "source": [
    "try:\n",
    "    tabela = pdf_para_tabela(r'C:\\Users\\mateu\\Área de Trabalho\\AMBIENTE DE TRABALHO\\ESTUDOS\\UFPB\\P4\\ENGENHARIA DE SOFTWARE\\projeto-ESW\\data', 'extrato.pdf')\n",
    "    if tabela is not None:\n",
    "        tabela_para_excel(tabela, r'C:\\Users\\mateu\\Área de Trabalho\\AMBIENTE DE TRABALHO\\ESTUDOS\\UFPB\\P4\\ENGENHARIA DE SOFTWARE\\projeto-ESW\\data', 'extrato.xlsx')\n",
    "except Exception as e:\n",
    "    logger.error(f'Erro ao executar o código principal: {e}')"
   ]
  },
  {
   "cell_type": "code",
   "execution_count": 5,
   "metadata": {},
   "outputs": [
    {
     "data": {
      "text/html": [
       "<div>\n",
       "<style scoped>\n",
       "    .dataframe tbody tr th:only-of-type {\n",
       "        vertical-align: middle;\n",
       "    }\n",
       "\n",
       "    .dataframe tbody tr th {\n",
       "        vertical-align: top;\n",
       "    }\n",
       "\n",
       "    .dataframe thead th {\n",
       "        text-align: right;\n",
       "    }\n",
       "</style>\n",
       "<table border=\"1\" class=\"dataframe\">\n",
       "  <thead>\n",
       "    <tr style=\"text-align: right;\">\n",
       "      <th></th>\n",
       "      <th>Agência 3793-1</th>\n",
       "      <th>Unnamed: 1</th>\n",
       "      <th>Unnamed: 2</th>\n",
       "      <th>Unnamed: 3</th>\n",
       "      <th>Unnamed: 4</th>\n",
       "      <th>Unnamed: 5</th>\n",
       "    </tr>\n",
       "  </thead>\n",
       "  <tbody>\n",
       "    <tr>\n",
       "      <th>0</th>\n",
       "      <td>Conta corrente 12034-0</td>\n",
       "      <td>NaN</td>\n",
       "      <td>SEED PARANA - FEB</td>\n",
       "      <td>NaN</td>\n",
       "      <td>NaN</td>\n",
       "      <td>NaN</td>\n",
       "    </tr>\n",
       "    <tr>\n",
       "      <th>1</th>\n",
       "      <td>Período do extrato 11/2018</td>\n",
       "      <td>NaN</td>\n",
       "      <td>NaN</td>\n",
       "      <td>NaN</td>\n",
       "      <td>NaN</td>\n",
       "      <td>NaN</td>\n",
       "    </tr>\n",
       "    <tr>\n",
       "      <th>2</th>\n",
       "      <td>Lançamentos</td>\n",
       "      <td>NaN</td>\n",
       "      <td>NaN</td>\n",
       "      <td>NaN</td>\n",
       "      <td>NaN</td>\n",
       "      <td>NaN</td>\n",
       "    </tr>\n",
       "    <tr>\n",
       "      <th>3</th>\n",
       "      <td>Dt. movimento Dt. balancete</td>\n",
       "      <td>NaN</td>\n",
       "      <td>Histórico</td>\n",
       "      <td>Documento</td>\n",
       "      <td>Valor R$</td>\n",
       "      <td>Saldo</td>\n",
       "    </tr>\n",
       "    <tr>\n",
       "      <th>4</th>\n",
       "      <td>31/10/2018</td>\n",
       "      <td>NaN</td>\n",
       "      <td>Saldo Anterior</td>\n",
       "      <td>NaN</td>\n",
       "      <td>NaN</td>\n",
       "      <td>0,00 C</td>\n",
       "    </tr>\n",
       "  </tbody>\n",
       "</table>\n",
       "</div>"
      ],
      "text/plain": [
       "                Agência 3793-1 Unnamed: 1         Unnamed: 2 Unnamed: 3  \\\n",
       "0       Conta corrente 12034-0        NaN  SEED PARANA - FEB        NaN   \n",
       "1   Período do extrato 11/2018        NaN                NaN        NaN   \n",
       "2                  Lançamentos        NaN                NaN        NaN   \n",
       "3  Dt. movimento Dt. balancete        NaN          Histórico  Documento   \n",
       "4                   31/10/2018        NaN     Saldo Anterior        NaN   \n",
       "\n",
       "  Unnamed: 4 Unnamed: 5  \n",
       "0        NaN        NaN  \n",
       "1        NaN        NaN  \n",
       "2        NaN        NaN  \n",
       "3   Valor R$      Saldo  \n",
       "4        NaN     0,00 C  "
      ]
     },
     "execution_count": 5,
     "metadata": {},
     "output_type": "execute_result"
    }
   ],
   "source": [
    "df = pd.read_excel(r'C:\\Users\\mateu\\Área de Trabalho\\AMBIENTE DE TRABALHO\\ESTUDOS\\UFPB\\P4\\ENGENHARIA DE SOFTWARE\\projeto-ESW\\data\\extrato.xlsx')\n",
    "df.head()"
   ]
  },
  {
   "cell_type": "code",
   "execution_count": 6,
   "metadata": {},
   "outputs": [
    {
     "data": {
      "text/plain": [
       "(288, 6)"
      ]
     },
     "execution_count": 6,
     "metadata": {},
     "output_type": "execute_result"
    }
   ],
   "source": [
    "df.shape"
   ]
  },
  {
   "cell_type": "code",
   "execution_count": 7,
   "metadata": {},
   "outputs": [
    {
     "data": {
      "text/plain": [
       "Agência 3793-1    object\n",
       "Unnamed: 1        object\n",
       "Unnamed: 2        object\n",
       "Unnamed: 3        object\n",
       "Unnamed: 4        object\n",
       "Unnamed: 5        object\n",
       "dtype: object"
      ]
     },
     "execution_count": 7,
     "metadata": {},
     "output_type": "execute_result"
    }
   ],
   "source": [
    "df.dtypes"
   ]
  },
  {
   "cell_type": "code",
   "execution_count": 8,
   "metadata": {},
   "outputs": [
    {
     "data": {
      "text/html": [
       "<div>\n",
       "<style scoped>\n",
       "    .dataframe tbody tr th:only-of-type {\n",
       "        vertical-align: middle;\n",
       "    }\n",
       "\n",
       "    .dataframe tbody tr th {\n",
       "        vertical-align: top;\n",
       "    }\n",
       "\n",
       "    .dataframe thead th {\n",
       "        text-align: right;\n",
       "    }\n",
       "</style>\n",
       "<table border=\"1\" class=\"dataframe\">\n",
       "  <thead>\n",
       "    <tr style=\"text-align: right;\">\n",
       "      <th></th>\n",
       "      <th>Dt. movimento</th>\n",
       "      <th>Dt. balancete</th>\n",
       "      <th>Histórico</th>\n",
       "      <th>Documento</th>\n",
       "      <th>Valor R$</th>\n",
       "      <th>Saldo</th>\n",
       "    </tr>\n",
       "  </thead>\n",
       "  <tbody>\n",
       "    <tr>\n",
       "      <th>0</th>\n",
       "      <td>Conta corrente 12034-0</td>\n",
       "      <td>NaN</td>\n",
       "      <td>SEED PARANA - FEB</td>\n",
       "      <td>NaN</td>\n",
       "      <td>NaN</td>\n",
       "      <td>NaN</td>\n",
       "    </tr>\n",
       "    <tr>\n",
       "      <th>1</th>\n",
       "      <td>Período do extrato 11/2018</td>\n",
       "      <td>NaN</td>\n",
       "      <td>NaN</td>\n",
       "      <td>NaN</td>\n",
       "      <td>NaN</td>\n",
       "      <td>NaN</td>\n",
       "    </tr>\n",
       "    <tr>\n",
       "      <th>2</th>\n",
       "      <td>Lançamentos</td>\n",
       "      <td>NaN</td>\n",
       "      <td>NaN</td>\n",
       "      <td>NaN</td>\n",
       "      <td>NaN</td>\n",
       "      <td>NaN</td>\n",
       "    </tr>\n",
       "    <tr>\n",
       "      <th>3</th>\n",
       "      <td>Dt. movimento Dt. balancete</td>\n",
       "      <td>NaN</td>\n",
       "      <td>Histórico</td>\n",
       "      <td>Documento</td>\n",
       "      <td>Valor R$</td>\n",
       "      <td>Saldo</td>\n",
       "    </tr>\n",
       "    <tr>\n",
       "      <th>4</th>\n",
       "      <td>31/10/2018</td>\n",
       "      <td>NaN</td>\n",
       "      <td>Saldo Anterior</td>\n",
       "      <td>NaN</td>\n",
       "      <td>NaN</td>\n",
       "      <td>0,00 C</td>\n",
       "    </tr>\n",
       "  </tbody>\n",
       "</table>\n",
       "</div>"
      ],
      "text/plain": [
       "                 Dt. movimento Dt. balancete          Histórico  Documento  \\\n",
       "0       Conta corrente 12034-0           NaN  SEED PARANA - FEB        NaN   \n",
       "1   Período do extrato 11/2018           NaN                NaN        NaN   \n",
       "2                  Lançamentos           NaN                NaN        NaN   \n",
       "3  Dt. movimento Dt. balancete           NaN          Histórico  Documento   \n",
       "4                   31/10/2018           NaN     Saldo Anterior        NaN   \n",
       "\n",
       "   Valor R$   Saldo  \n",
       "0       NaN     NaN  \n",
       "1       NaN     NaN  \n",
       "2       NaN     NaN  \n",
       "3  Valor R$   Saldo  \n",
       "4       NaN  0,00 C  "
      ]
     },
     "execution_count": 8,
     "metadata": {},
     "output_type": "execute_result"
    }
   ],
   "source": [
    "df = df.rename(columns={'Agência 3793-1':'Dt. movimento','Unnamed: 1':'Dt. balancete','Unnamed: 2':'Histórico','Unnamed: 3':'Documento','Unnamed: 4':'Valor R$','Unnamed: 5':'Saldo'})\n",
    "df.head()"
   ]
  },
  {
   "cell_type": "code",
   "execution_count": 9,
   "metadata": {},
   "outputs": [
    {
     "data": {
      "text/plain": [
       "Dt. balancete\n",
       "Repasse                                         10\n",
       "Repasse 51.201.001                               9\n",
       "+ Transferência recebida 553.793.000.007.093     9\n",
       "Apl.BB Fundos Exclusivos 1.338                   8\n",
       "Apl.BB Fundos Exclusivos                         3\n",
       "+ Transferência enviada 553.793.000.011.145      2\n",
       "Deb.Distribuição Estadual 500                    2\n",
       "Resg.BB Fundos Exclusivos 1.201.338              2\n",
       "19/11 3793 GEPR NOTA 00076416890000189           1\n",
       "20/11 3793 GOV PARAN 00076416890000189           1\n",
       "21/11 3793 GOV PARAN 00076416890000189           1\n",
       "Saque sem cartão 2.124                           1\n",
       "22/11 3793 GOV PARAN 00076416890000189           1\n",
       "23/11 3793 GOV PARAN 00076416890000189           1\n",
       "27/11 3793 GOV PARAN 00076416890000189           1\n",
       "Saque sem cartão 14.245                          1\n",
       "26/11 3793 GOV PARAN 00076416890000189           1\n",
       "26/11 3793 GEPR NOTA 00076416890000189           1\n",
       "29/11 3793 GOV PARAN 00076416890000189           1\n",
       "28/11 3793 GOV PARAN 00076416890000189           1\n",
       "S A L D O                                        1\n",
       "30/11 3793 GOV PARAN 00076416890000189           1\n",
       "Resg.BB Fundos Exclusivos                        1\n",
       "Saque sem cartão                                 1\n",
       "+ Transferência enviada                          1\n",
       "27/11 3793 GEPR FUND 00076416890000189           1\n",
       "Name: count, dtype: int64"
      ]
     },
     "execution_count": 9,
     "metadata": {},
     "output_type": "execute_result"
    }
   ],
   "source": [
    "df['Dt. balancete'].value_counts()"
   ]
  },
  {
   "cell_type": "code",
   "execution_count": 10,
   "metadata": {},
   "outputs": [
    {
     "data": {
      "text/html": [
       "<div>\n",
       "<style scoped>\n",
       "    .dataframe tbody tr th:only-of-type {\n",
       "        vertical-align: middle;\n",
       "    }\n",
       "\n",
       "    .dataframe tbody tr th {\n",
       "        vertical-align: top;\n",
       "    }\n",
       "\n",
       "    .dataframe thead th {\n",
       "        text-align: right;\n",
       "    }\n",
       "</style>\n",
       "<table border=\"1\" class=\"dataframe\">\n",
       "  <thead>\n",
       "    <tr style=\"text-align: right;\">\n",
       "      <th></th>\n",
       "      <th>Dt. movimento</th>\n",
       "      <th>Dt. balancete</th>\n",
       "      <th>Histórico</th>\n",
       "      <th>Documento</th>\n",
       "      <th>Valor R$</th>\n",
       "      <th>Saldo</th>\n",
       "    </tr>\n",
       "  </thead>\n",
       "  <tbody>\n",
       "    <tr>\n",
       "      <th>0</th>\n",
       "      <td>Conta corrente 12034-0</td>\n",
       "      <td>None</td>\n",
       "      <td>SEED PARANA - FEB</td>\n",
       "      <td>None</td>\n",
       "      <td>None</td>\n",
       "      <td>None</td>\n",
       "    </tr>\n",
       "    <tr>\n",
       "      <th>1</th>\n",
       "      <td>Período do extrato 11/2018</td>\n",
       "      <td>None</td>\n",
       "      <td>None</td>\n",
       "      <td>None</td>\n",
       "      <td>None</td>\n",
       "      <td>None</td>\n",
       "    </tr>\n",
       "    <tr>\n",
       "      <th>2</th>\n",
       "      <td>Lançamentos</td>\n",
       "      <td>None</td>\n",
       "      <td>None</td>\n",
       "      <td>None</td>\n",
       "      <td>None</td>\n",
       "      <td>None</td>\n",
       "    </tr>\n",
       "    <tr>\n",
       "      <th>3</th>\n",
       "      <td>Dt. movimento Dt. balancete</td>\n",
       "      <td>None</td>\n",
       "      <td>Histórico</td>\n",
       "      <td>Documento</td>\n",
       "      <td>Valor R$</td>\n",
       "      <td>Saldo</td>\n",
       "    </tr>\n",
       "    <tr>\n",
       "      <th>4</th>\n",
       "      <td>31/10/2018</td>\n",
       "      <td>None</td>\n",
       "      <td>Saldo Anterior</td>\n",
       "      <td>None</td>\n",
       "      <td>None</td>\n",
       "      <td>0,00 C</td>\n",
       "    </tr>\n",
       "  </tbody>\n",
       "</table>\n",
       "</div>"
      ],
      "text/plain": [
       "                 Dt. movimento Dt. balancete          Histórico  Documento  \\\n",
       "0       Conta corrente 12034-0          None  SEED PARANA - FEB       None   \n",
       "1   Período do extrato 11/2018          None               None       None   \n",
       "2                  Lançamentos          None               None       None   \n",
       "3  Dt. movimento Dt. balancete          None          Histórico  Documento   \n",
       "4                   31/10/2018          None     Saldo Anterior       None   \n",
       "\n",
       "   Valor R$   Saldo  \n",
       "0      None    None  \n",
       "1      None    None  \n",
       "2      None    None  \n",
       "3  Valor R$   Saldo  \n",
       "4      None  0,00 C  "
      ]
     },
     "execution_count": 10,
     "metadata": {},
     "output_type": "execute_result"
    }
   ],
   "source": [
    "df = df.replace(np.nan, None)\n",
    "df.head()"
   ]
  },
  {
   "cell_type": "code",
   "execution_count": 11,
   "metadata": {},
   "outputs": [
    {
     "data": {
      "text/html": [
       "<div>\n",
       "<style scoped>\n",
       "    .dataframe tbody tr th:only-of-type {\n",
       "        vertical-align: middle;\n",
       "    }\n",
       "\n",
       "    .dataframe tbody tr th {\n",
       "        vertical-align: top;\n",
       "    }\n",
       "\n",
       "    .dataframe thead th {\n",
       "        text-align: right;\n",
       "    }\n",
       "</style>\n",
       "<table border=\"1\" class=\"dataframe\">\n",
       "  <thead>\n",
       "    <tr style=\"text-align: right;\">\n",
       "      <th></th>\n",
       "      <th>Dt. movimento</th>\n",
       "      <th>Histórico</th>\n",
       "      <th>Valor R$</th>\n",
       "    </tr>\n",
       "  </thead>\n",
       "  <tbody>\n",
       "    <tr>\n",
       "      <th>0</th>\n",
       "      <td>Conta corrente 12034-0</td>\n",
       "      <td>SEED PARANA - FEB</td>\n",
       "      <td>None</td>\n",
       "    </tr>\n",
       "    <tr>\n",
       "      <th>1</th>\n",
       "      <td>Período do extrato 11/2018</td>\n",
       "      <td>None</td>\n",
       "      <td>None</td>\n",
       "    </tr>\n",
       "    <tr>\n",
       "      <th>2</th>\n",
       "      <td>Lançamentos</td>\n",
       "      <td>None</td>\n",
       "      <td>None</td>\n",
       "    </tr>\n",
       "    <tr>\n",
       "      <th>3</th>\n",
       "      <td>Dt. movimento Dt. balancete</td>\n",
       "      <td>Histórico</td>\n",
       "      <td>Valor R$</td>\n",
       "    </tr>\n",
       "    <tr>\n",
       "      <th>4</th>\n",
       "      <td>31/10/2018</td>\n",
       "      <td>Saldo Anterior</td>\n",
       "      <td>None</td>\n",
       "    </tr>\n",
       "  </tbody>\n",
       "</table>\n",
       "</div>"
      ],
      "text/plain": [
       "                 Dt. movimento          Histórico  Valor R$\n",
       "0       Conta corrente 12034-0  SEED PARANA - FEB      None\n",
       "1   Período do extrato 11/2018               None      None\n",
       "2                  Lançamentos               None      None\n",
       "3  Dt. movimento Dt. balancete          Histórico  Valor R$\n",
       "4                   31/10/2018     Saldo Anterior      None"
      ]
     },
     "execution_count": 11,
     "metadata": {},
     "output_type": "execute_result"
    }
   ],
   "source": [
    "df_sem_coluna_saldo = df.drop(columns=['Saldo', 'Dt. balancete', 'Documento'])\n",
    "df_sem_coluna_saldo.head()"
   ]
  },
  {
   "cell_type": "code",
   "execution_count": 12,
   "metadata": {},
   "outputs": [],
   "source": [
    "caminho = r'C:\\Users\\mateu\\Área de Trabalho\\AMBIENTE DE TRABALHO\\ESTUDOS\\UFPB\\P4\\ENGENHARIA DE SOFTWARE\\projeto-ESW\\data\\teste.xlsx'\n",
    "df_sem_coluna_saldo.to_excel(caminho, index=False)"
   ]
  }
 ],
 "metadata": {
  "kernelspec": {
   "display_name": "Python 3 (ipykernel)",
   "language": "python",
   "name": "python3"
  },
  "language_info": {
   "codemirror_mode": {
    "name": "ipython",
    "version": 3
   },
   "file_extension": ".py",
   "mimetype": "text/x-python",
   "name": "python",
   "nbconvert_exporter": "python",
   "pygments_lexer": "ipython3",
   "version": "3.12.3"
  }
 },
 "nbformat": 4,
 "nbformat_minor": 4
}
